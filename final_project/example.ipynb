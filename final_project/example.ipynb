{
 "cells": [
  {
   "cell_type": "code",
   "execution_count": 1,
   "metadata": {},
   "outputs": [],
   "source": [
    "import torch\n",
    "from quant_gans import Generator, Discriminator, load_financial_data, train_quant_gans\n",
    "import matplotlib.pyplot as plt"
   ]
  },
  {
   "cell_type": "code",
   "execution_count": null,
   "metadata": {},
   "outputs": [],
   "source": [
    "# Load financial data\n",
    "data = load_financial_data('AAPL.csv')\n",
    "\n",
    "# Initialize the generator and the discriminator\n",
    "device = torch.device('cuda' if torch.cuda.is_available() else 'cpu')\n",
    "generator = Generator(n_layers=8, n_channels=64, n_input=1, n_output=1, kernel_size=2, stride=1, dilation=2, padding=1, dropout=0.2).to(device)\n",
    "discriminator = Discriminator(n_layers=8, n_channels=64, n_input=1, n_output=1, kernel_size=2, stride=1, dilation=2, padding=1, dropout=0.2).to(device)\n",
    "\n",
    "# Train the QuantGANs model\n",
    "train_quant_gans(data, generator, discriminator, num_epochs=200, batch_size=64, device=device)\n",
    "\n",
    "#After training, you can use the generator to create synthetic financial time series data:\n",
    "noise = torch.randn(batch_size, 1, 100).to(device)\n",
    "generated_data = generator(noise)"
   ]
  },
  {
   "cell_type": "code",
   "execution_count": null,
   "metadata": {},
   "outputs": [],
   "source": [
    "noise = torch.randn(1, 1, 100).to(device)\n",
    "generated_data = generator(noise).detach().cpu().numpy().flatten()\n",
    "\n",
    "# Plot the generated data\n",
    "plt.plot(generated_data)\n",
    "plt.title(\"Generated Financial Time Series Data\")\n",
    "plt.xlabel(\"Time\")\n",
    "plt.ylabel(\"Normalized Adjusted Close Price\")\n",
    "plt.show()\n",
    "\n",
    "##Saving and Loading Trained Models\n",
    "You can save the trained generator and discriminator models to disk for later use. To do this, you can use the torch.save function. Here's an example:\n",
    "\n",
    "# Save the trained generator and discriminator models\n",
    "torch.save(generator.state_dict(), 'generator.pth')\n",
    "torch.save(discriminator.state_dict(), 'discriminator.pth')\n",
    "\n",
    "#To load the saved models back into memory, use the torch.load function:\n",
    "# Load the saved generator and discriminator models\n",
    "generator.load_state_dict(torch.load('generator.pth'))\n",
    "discriminator.load_state_dict(torch.load('discriminator.pth'))"
   ]
  }
 ],
 "metadata": {
  "kernelspec": {
   "display_name": "env_310",
   "language": "python",
   "name": "python3"
  },
  "language_info": {
   "codemirror_mode": {
    "name": "ipython",
    "version": 3
   },
   "file_extension": ".py",
   "mimetype": "text/x-python",
   "name": "python",
   "nbconvert_exporter": "python",
   "pygments_lexer": "ipython3",
   "version": "3.10.10"
  },
  "orig_nbformat": 4
 },
 "nbformat": 4,
 "nbformat_minor": 2
}
